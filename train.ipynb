{
 "cells": [
  {
   "cell_type": "code",
   "execution_count": 9,
   "metadata": {},
   "outputs": [
    {
     "ename": "ModuleNotFoundError",
     "evalue": "No module named 'lib.data'",
     "output_type": "error",
     "traceback": [
      "\u001b[0;31m---------------------------------------------------------------------------\u001b[0m",
      "\u001b[0;31mModuleNotFoundError\u001b[0m                       Traceback (most recent call last)",
      "\u001b[0;32m<ipython-input-9-08efaec9abd1>\u001b[0m in \u001b[0;36m<module>\u001b[0;34m()\u001b[0m\n\u001b[1;32m     19\u001b[0m \u001b[0;32mfrom\u001b[0m \u001b[0moptions\u001b[0m \u001b[0;32mimport\u001b[0m \u001b[0mOptions\u001b[0m\u001b[0;34m\u001b[0m\u001b[0m\n\u001b[1;32m     20\u001b[0m \u001b[0;31m#from lib import data\u001b[0m\u001b[0;34m\u001b[0m\u001b[0;34m\u001b[0m\u001b[0m\n\u001b[0;32m---> 21\u001b[0;31m \u001b[0;32mfrom\u001b[0m \u001b[0mlib\u001b[0m\u001b[0;34m.\u001b[0m\u001b[0mdata\u001b[0m \u001b[0;32mimport\u001b[0m \u001b[0mload_data\u001b[0m\u001b[0;34m\u001b[0m\u001b[0m\n\u001b[0m\u001b[1;32m     22\u001b[0m \u001b[0;32mfrom\u001b[0m \u001b[0mlib\u001b[0m\u001b[0;34m.\u001b[0m\u001b[0mmodel\u001b[0m \u001b[0;32mimport\u001b[0m \u001b[0mGanomaly\u001b[0m\u001b[0;34m\u001b[0m\u001b[0m\n\u001b[1;32m     23\u001b[0m \u001b[0;34m\u001b[0m\u001b[0m\n",
      "\u001b[0;31mModuleNotFoundError\u001b[0m: No module named 'lib.data'"
     ]
    }
   ],
   "source": [
    "\"\"\"\n",
    "TRAIN GANOMALY\n",
    ". Example: Run the following command from the terminal.\n",
    "    run train.py                             \\\n",
    "        --model ganomaly                        \\\n",
    "        --dataset UCSD_Anomaly_Dataset/UCSDped1 \\\n",
    "        --batchsize 32                          \\\n",
    "        --isize 256                         \\\n",
    "        --nz 512                                \\\n",
    "        --ngf 64                               \\\n",
    "        --ndf 64\n",
    "\"\"\"\n",
    "\n",
    "\n",
    "##\n",
    "# LIBRARIES\n",
    "from __future__ import print_function\n",
    "\n",
    "from options import Options\n",
    "#from lib import data\n",
    "from lib.data import load_data\n",
    "from lib.model import Ganomaly\n",
    "\n",
    "##\n",
    "# def main():\n",
    "\"\"\" Training\n",
    "\"\"\"\n",
    "\n",
    "##\n",
    "# ARGUMENTS\n",
    "opt = Options().parse()\n",
    "\n",
    "##\n",
    "# LOAD DATA\n",
    "dataloader = load_data(opt)\n",
    "\n",
    "##\n",
    "# LOAD MODEL\n",
    "model = Ganomaly(opt, dataloader)\n",
    "\n",
    "##\n",
    "# TRAIN MODEL\n",
    "model.train()\n",
    "\n",
    "# if __name__ == '__main__':\n",
    "#     main()"
   ]
  },
  {
   "cell_type": "code",
   "execution_count": 2,
   "metadata": {},
   "outputs": [
    {
     "name": "stdout",
     "output_type": "stream",
     "text": [
      "\n",
      "The following command must be run outside of the IPython shell:\n",
      "\n",
      "    $ pip install options\n",
      "\n",
      "The Python package manager (pip) can only be used from outside of IPython.\n",
      "Please reissue the `pip` command in a separate terminal or command prompt.\n",
      "\n",
      "See the Python documentation for more information on how to install packages:\n",
      "\n",
      "    https://docs.python.org/3/installing/\n"
     ]
    }
   ],
   "source": [
    "pip install options"
   ]
  },
  {
   "cell_type": "code",
   "execution_count": 3,
   "metadata": {},
   "outputs": [
    {
     "name": "stdout",
     "output_type": "stream",
     "text": [
      "Collecting options\n",
      "  Using cached https://files.pythonhosted.org/packages/1c/98/ce5b7d7f2d0bbcaa6c10830f96a24d1195b5c0b489413c957345e70f2da9/options-1.4.8-py2.py3-none-any.whl\n",
      "Collecting nulltype>=2.2.9 (from options)\n",
      "  Using cached https://files.pythonhosted.org/packages/00/0f/47dde1a3cceac9858da0bfb92d2279bf5f993ed075b72983e92efc297db3/nulltype-2.3.1-py2.py3-none-any.whl\n",
      "Requirement already satisfied: six>=1.10.0 in /anaconda3/lib/python3.6/site-packages (from options) (1.11.0)\n",
      "Collecting combomethod>=1.0.7 (from options)\n",
      "  Using cached https://files.pythonhosted.org/packages/6e/19/a33293ad8405eb506849ed468f632e01e2f861f5470ed6a1a5eff7526693/combomethod-1.0.12-py2.py3-none-any.whl\n",
      "Collecting chainmap>=1.0.2 (from options)\n",
      "  Using cached https://files.pythonhosted.org/packages/6a/53/795ce18439a067eea1b233152985c0e67fd7dcc4edf102fb30f8cca6bad0/chainmap-1.0.2-py2.py3-none-any.whl\n",
      "Installing collected packages: nulltype, combomethod, chainmap, options\n",
      "Successfully installed chainmap-1.0.2 combomethod-1.0.12 nulltype-2.3.1 options-1.4.8\n"
     ]
    }
   ],
   "source": [
    "!pip install options"
   ]
  },
  {
   "cell_type": "code",
   "execution_count": 5,
   "metadata": {},
   "outputs": [
    {
     "name": "stdout",
     "output_type": "stream",
     "text": [
      "Collecting lib\n",
      "  Downloading https://files.pythonhosted.org/packages/5c/15/f8ba504146fbe6f1bcb79786fd9b9cb45e5e3ff4c4536d1418d83fdd143c/lib-3.0.0.tar.gz\n",
      "Building wheels for collected packages: lib\n",
      "  Running setup.py bdist_wheel for lib ... \u001b[?25ldone\n",
      "\u001b[?25h  Stored in directory: /Users/aarthipriya/Library/Caches/pip/wheels/52/de/da/0ef2064c4b4a213d27518228ebd79a2349e1b81341b05f7196\n",
      "Successfully built lib\n",
      "Installing collected packages: lib\n",
      "Successfully installed lib-3.0.0\n"
     ]
    }
   ],
   "source": [
    "!pip install lib"
   ]
  },
  {
   "cell_type": "code",
   "execution_count": 7,
   "metadata": {},
   "outputs": [
    {
     "name": "stdout",
     "output_type": "stream",
     "text": [
      "Collecting lib.data\n",
      "\u001b[31m  Could not find a version that satisfies the requirement lib.data (from versions: )\u001b[0m\n",
      "\u001b[31mNo matching distribution found for lib.data\u001b[0m\n"
     ]
    }
   ],
   "source": [
    "!pip install lib.data"
   ]
  },
  {
   "cell_type": "code",
   "execution_count": null,
   "metadata": {},
   "outputs": [],
   "source": [
    "!pip install load"
   ]
  }
 ],
 "metadata": {
  "kernelspec": {
   "display_name": "Python 3",
   "language": "python",
   "name": "python3"
  },
  "language_info": {
   "codemirror_mode": {
    "name": "ipython",
    "version": 3
   },
   "file_extension": ".py",
   "mimetype": "text/x-python",
   "name": "python",
   "nbconvert_exporter": "python",
   "pygments_lexer": "ipython3",
   "version": "3.6.5"
  }
 },
 "nbformat": 4,
 "nbformat_minor": 2
}
