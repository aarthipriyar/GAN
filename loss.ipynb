{
 "cells": [
  {
   "cell_type": "code",
   "execution_count": null,
   "metadata": {},
   "outputs": [],
   "source": [
    "\"\"\"\n",
    "Losses\n",
    "\"\"\"\n",
    "# pylint: disable=C0301,C0103,R0902,R0915,W0221,W0622\n",
    "\n",
    "\n",
    "##\n",
    "# LIBRARIES\n",
    "import torch\n",
    "\n",
    "##\n",
    "def l1_loss(input, target):\n",
    "    \"\"\" L1 Loss without reduce flag.\n",
    "\n",
    "    Args:\n",
    "        input (FloatTensor): Input tensor\n",
    "        target (FloatTensor): Output tensor\n",
    "\n",
    "    Returns:\n",
    "        [FloatTensor]: L1 distance between input and output\n",
    "    \"\"\"\n",
    "\n",
    "    return torch.mean(torch.abs(input - target))\n",
    "\n",
    "##\n",
    "def l2_loss(input, target, size_average=True):\n",
    "    \"\"\" L2 Loss without reduce flag.\n",
    "\n",
    "    Args:\n",
    "        input (FloatTensor): Input tensor\n",
    "        target (FloatTensor): Output tensor\n",
    "\n",
    "    Returns:\n",
    "        [FloatTensor]: L2 distance between input and output\n",
    "    \"\"\"\n",
    "    if size_average:\n",
    "        return torch.mean(torch.pow((input-target), 2))\n",
    "    else:\n",
    "        return torch.pow((input-target), 2)\n",
    "\n"
   ]
  }
 ],
 "metadata": {
  "kernelspec": {
   "display_name": "Python 3",
   "language": "python",
   "name": "python3"
  },
  "language_info": {
   "codemirror_mode": {
    "name": "ipython",
    "version": 3
   },
   "file_extension": ".py",
   "mimetype": "text/x-python",
   "name": "python",
   "nbconvert_exporter": "python",
   "pygments_lexer": "ipython3",
   "version": "3.6.5"
  }
 },
 "nbformat": 4,
 "nbformat_minor": 2
}
